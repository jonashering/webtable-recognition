{
 "cells": [
  {
   "cell_type": "code",
   "execution_count": 1,
   "metadata": {},
   "outputs": [],
   "source": [
    "#reload source files automatically\n",
    "%load_ext autoreload\n",
    "%autoreload 2"
   ]
  },
  {
   "cell_type": "code",
   "execution_count": 2,
   "metadata": {},
   "outputs": [
    {
     "data": {
      "text/plain": [
       "<torch._C.Generator at 0x7fbbd2d951d0>"
      ]
     },
     "execution_count": 2,
     "metadata": {},
     "output_type": "execute_result"
    }
   ],
   "source": [
    "import pandas as pd\n",
    "import numpy as np\n",
    "from wtrec.loader import load_from_directory\n",
    "from wtrec.transformer import transform_for_baseline, transform_for_approach\n",
    "from wtrec.splitter import split_fixed, split_random\n",
    "from wtrec.evaluator import evaluation_report\n",
    "import torch\n",
    "from torch.utils.data import Dataset, DataLoader, Subset\n",
    "import torchvision\n",
    "from torchvision.models import resnet18\n",
    "from torchvision import transforms\n",
    "from torch import nn\n",
    "from torch.optim import lr_scheduler\n",
    "import torch.nn.functional as F\n",
    "import torch.optim as optim\n",
    "from torch.autograd import Variable\n",
    "import imgkit\n",
    "import PIL\n",
    "from tempfile import NamedTemporaryFile\n",
    "from sklearn.preprocessing import LabelEncoder\n",
    "import time\n",
    "import copy\n",
    "\n",
    "device = torch.device('cuda:0' if torch.cuda.is_available() else 'cpu')\n",
    "torch.manual_seed(0)"
   ]
  },
  {
   "cell_type": "markdown",
   "metadata": {},
   "source": [
    "### Load raw data to dataframe"
   ]
  },
  {
   "cell_type": "code",
   "execution_count": 3,
   "metadata": {},
   "outputs": [],
   "source": [
    "raw = load_from_directory('./data/large_clean')"
   ]
  },
  {
   "cell_type": "markdown",
   "metadata": {},
   "source": [
    "### Generate feature vectors for each sample in raw dataframe"
   ]
  },
  {
   "cell_type": "code",
   "execution_count": 4,
   "metadata": {},
   "outputs": [],
   "source": [
    "approach_df = transform_for_approach(raw, './imgpath')"
   ]
  },
  {
   "cell_type": "markdown",
   "metadata": {},
   "source": [
    "### Define Torch Artifacts"
   ]
  },
  {
   "cell_type": "code",
   "execution_count": 14,
   "metadata": {},
   "outputs": [],
   "source": [
    "class WebTableDataset(Dataset):\n",
    "    data = []\n",
    "    labels = []\n",
    "    \n",
    "    def generate_image_from_html(self, html):\n",
    "        with NamedTemporaryFile(suffix='.png') as f:\n",
    "            try:  # tables containing iframes or similar external sources cannot be rendered\n",
    "                imgkit.from_string(html,\n",
    "                               f.name,\n",
    "                               options={'quiet': '', 'disable-plugins': '', 'no-images': '', 'disable-javascript': '', 'height': 1024, 'width': 1024, 'load-error-handling': 'ignore'})\n",
    "                image = PIL.Image.open(f.name)\n",
    "            except:\n",
    "                image = PIL.Image.new('RGB', self.target_shape, (255, 255, 255))\n",
    "        return image.convert('RGB')\n",
    "    \n",
    "    def crop_surrounding_whitespace(self, image):\n",
    "        bg = PIL.Image.new(image.mode, image.size, (255, 255, 255))\n",
    "        diff = PIL.ImageChops.difference(image, bg)\n",
    "        bbox = diff.getbbox()\n",
    "        if not bbox:\n",
    "            return image\n",
    "        return image.crop(bbox)\n",
    "    \n",
    "    def resize_to_maximum_size(self, image):\n",
    "        image_width, image_height = image.size\n",
    "#         if image_width >= self.target_shape[0] or image_height >= self.target_shape[0]:\n",
    "#             image.thumbnail(self.target_shape, PIL.Image.ANTIALIAS)\n",
    "#         else:\n",
    "        image = image.resize(self.target_shape, PIL.Image.ANTIALIAS)\n",
    "        return image\n",
    "\n",
    "    def __init__(self, df, data_column='new_html', label_column='label', target_shape=(224, 224), resize=True):\n",
    "        self.data = df[data_column]\n",
    "        self.label_encoder = LabelEncoder().fit(df[label_column])\n",
    "        self.labels = self.label_encoder.transform(df[label_column])\n",
    "        self.target_shape = target_shape\n",
    "        self.resize = resize\n",
    "        \n",
    "    def __len__(self):\n",
    "        return len(self.labels)\n",
    "    \n",
    "    def __getitem__(self, index):\n",
    "        image = self.generate_image_from_html(self.data[index]) #.decode('utf-8', 'replace'))\n",
    "        image = self.crop_surrounding_whitespace(image)\n",
    "        if self.resize:\n",
    "            image = self.resize_to_maximum_size(image)\n",
    "        \n",
    "        # paste resized/cropped image onto uniformly sized canvas\n",
    "        canvas = PIL.Image.new('RGB', self.target_shape, color=(255, 255, 255))\n",
    "        canvas.paste(image)\n",
    "        \n",
    "        # convert image and label to tensor\n",
    "        torch_image = transforms.Compose([transforms.ToTensor(),transforms.Normalize([0.485, 0.456, 0.406], [0.229, 0.224, 0.225])])(canvas)\n",
    "        #torch_image = torch.from_numpy(np.asarray(canvas))\n",
    "        label = self.labels[index]\n",
    "\n",
    "        return torch_image, label\n",
    "\n",
    "dataset = WebTableDataset(approach_df, resize=True)\n",
    "\n",
    "dataset_train = Subset(dataset, list(range(int(len(dataset) * 0.7))))\n",
    "dataset_test = Subset(dataset, list(range(int(len(dataset) * 0.7), len(dataset))))\n",
    "\n",
    "loader_train = DataLoader(dataset_train, batch_size=256, shuffle=True, drop_last=True, num_workers=4)\n",
    "loader_test = DataLoader(dataset_test, batch_size=256, shuffle=True, drop_last=True, num_workers=4)"
   ]
  },
  {
   "cell_type": "code",
   "execution_count": 15,
   "metadata": {},
   "outputs": [],
   "source": [
    "model = resnet18(pretrained=True)\n",
    "num_ftrs = model.fc.in_features\n",
    "model.fc = nn.Linear(num_ftrs, len(dataset.label_encoder.classes_))\n",
    "model = model.to(device)\n",
    "\n",
    "optimizer = optim.SGD(model.parameters(), lr=0.01, momentum=0.9)\n",
    "\n",
    "criterion = nn.CrossEntropyLoss()\n",
    "scheduler = lr_scheduler.StepLR(optimizer, step_size=5, gamma=0.1)"
   ]
  },
  {
   "cell_type": "code",
   "execution_count": null,
   "metadata": {
    "scrolled": false
   },
   "outputs": [
    {
     "name": "stdout",
     "output_type": "stream",
     "text": [
      "Epoch 0/4\n",
      "----------\n",
      "train Loss: 0.6087 Acc: 0.7539\n",
      "val Loss: 0.3861 Acc: 0.8460\n",
      "\n",
      "Epoch 1/4\n",
      "----------\n"
     ]
    }
   ],
   "source": [
    "def train_model(model, criterion, optimizer, scheduler, num_epochs=25):\n",
    "    since = time.time()\n",
    "\n",
    "    best_model_wts = copy.deepcopy(model.state_dict())\n",
    "    best_acc = 0.0\n",
    "\n",
    "    for epoch in range(num_epochs):\n",
    "        print('Epoch {}/{}'.format(epoch, num_epochs - 1))\n",
    "        print('-' * 10)\n",
    "\n",
    "        # Each epoch has a training and validation phase\n",
    "        for phase in ['train', 'val']:\n",
    "            loader = ''\n",
    "            if phase == 'train':\n",
    "                loader = loader_train\n",
    "                scheduler.step()\n",
    "                model.train()  # Set model to training mode\n",
    "            else:\n",
    "                loader = loader_test\n",
    "                model.eval()   # Set model to evaluate mode\n",
    "\n",
    "            running_loss = 0.0\n",
    "            running_corrects = 0\n",
    "\n",
    "            # Iterate over data.\n",
    "            for inputs, labels in loader:\n",
    "                inputs = inputs.to(device)\n",
    "                labels = labels.to(device)\n",
    "\n",
    "                # zero the parameter gradients\n",
    "                optimizer.zero_grad()\n",
    "\n",
    "                # forward\n",
    "                # track history if only in train\n",
    "                with torch.set_grad_enabled(phase == 'train'):\n",
    "                    outputs = model(inputs)\n",
    "                    _, preds = torch.max(outputs, 1)\n",
    "                    loss = criterion(outputs, labels)\n",
    "\n",
    "                    # backward + optimize only if in training phase\n",
    "                    if phase == 'train':\n",
    "                        loss.backward()\n",
    "                        optimizer.step()\n",
    "\n",
    "                # statistics\n",
    "                running_loss += loss.item() * inputs.size(0)\n",
    "                running_corrects += torch.sum(preds == labels.data)\n",
    "\n",
    "            epoch_loss = running_loss / (len(loader) * loader.batch_size)\n",
    "            epoch_acc = running_corrects.double() / (len(loader) * loader.batch_size)\n",
    "\n",
    "            print('{} Loss: {:.4f} Acc: {:.4f}'.format(\n",
    "                phase, epoch_loss, epoch_acc))\n",
    "\n",
    "            # deep copy the model\n",
    "            if phase == 'val' and epoch_acc > best_acc:\n",
    "                best_acc = epoch_acc\n",
    "                best_model_wts = copy.deepcopy(model.state_dict())\n",
    "\n",
    "        print()\n",
    "\n",
    "    time_elapsed = time.time() - since\n",
    "    print('Training complete in {:.0f}m {:.0f}s'.format(\n",
    "        time_elapsed // 60, time_elapsed % 60))\n",
    "    print('Best val Acc: {:4f}'.format(best_acc))\n",
    "\n",
    "    # load best model weights\n",
    "    model.load_state_dict(best_model_wts)\n",
    "    return model\n",
    "\n",
    "model_trained = train_model(model, criterion, optimizer, scheduler, num_epochs=5)"
   ]
  },
  {
   "cell_type": "markdown",
   "metadata": {},
   "source": [
    "### Split dataset into test and train data according to previously computed indices"
   ]
  },
  {
   "cell_type": "code",
   "execution_count": null,
   "metadata": {},
   "outputs": [],
   "source": [
    "train_X, train_Y, test_X, test_Y = split_fixed(baseline_features, './data/large_clean_idx_new_new4.npz')"
   ]
  },
  {
   "cell_type": "markdown",
   "metadata": {},
   "source": [
    "### Learn and cross-validate GBDT classifier"
   ]
  },
  {
   "cell_type": "code",
   "execution_count": null,
   "metadata": {},
   "outputs": [],
   "source": [
    "clf = BaselineClassifier()\n",
    "clf.fit(train_X, train_Y)\n",
    "pred_Y = clf.predict(test_X)\n",
    "evaluation_report(test_Y, pred_Y)"
   ]
  },
  {
   "cell_type": "code",
   "execution_count": 13,
   "metadata": {},
   "outputs": [
    {
     "name": "stderr",
     "output_type": "stream",
     "text": [
      "Clipping input data to the valid range for imshow with RGB data ([0..1] for floats or [0..255] for integers).\n"
     ]
    },
    {
     "data": {
      "image/png": "[encoded data removed]",
      "text/plain": [
       "<Figure size 432x288 with 1 Axes>"
      ]
     },
     "metadata": {
      "needs_background": "light"
     },
     "output_type": "display_data"
    }
   ],
   "source": [
    "import matplotlib.pyplot as plt\n",
    "#plt.imshow(transforms.ToPILImage()(dataset_train[200][0]))\n",
    "plt.imshow(  dataset_train[100][0].permute(1, 2, 0)  )\n",
    "plt.show()"
   ]
  },
  {
   "cell_type": "code",
   "execution_count": null,
   "metadata": {},
   "outputs": [],
   "source": []
  }
 ],
 "metadata": {
  "kernelspec": {
   "display_name": "Python 3",
   "language": "python",
   "name": "python3"
  },
  "language_info": {
   "codemirror_mode": {
    "name": "ipython",
    "version": 3
   },
   "file_extension": ".py",
   "mimetype": "text/x-python",
   "name": "python",
   "nbconvert_exporter": "python",
   "pygments_lexer": "ipython3",
   "version": "3.7.3"
  },
  "varInspector": {
   "cols": {
    "lenName": 16,
    "lenType": 16,
    "lenVar": 40
   },
   "kernels_config": {
    "polyglot": {
     "delete_cmd_postfix": "",
     "delete_cmd_prefix": "delete ",
     "library": "var_list_poly.js",
     "varRefreshCmd": "%polyglot js\nconsole.log(var_dic_list()) "
    },
    "python": {
     "delete_cmd_postfix": "",
     "delete_cmd_prefix": "del ",
     "library": "var_list.py",
     "varRefreshCmd": "print(var_dic_list())"
    },
    "r": {
     "delete_cmd_postfix": ") ",
     "delete_cmd_prefix": "rm(",
     "library": "var_list.r",
     "varRefreshCmd": "cat(var_dic_list()) "
    }
   },
   "types_to_exclude": [
    "module",
    "function",
    "builtin_function_or_method",
    "instance",
    "_Feature"
   ],
   "window_display": false
  }
 },
 "nbformat": 4,
 "nbformat_minor": 2
}
