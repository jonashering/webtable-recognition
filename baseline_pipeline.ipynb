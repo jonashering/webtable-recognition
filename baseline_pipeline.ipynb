{
 "cells": [
  {
   "cell_type": "code",
   "execution_count": 2,
   "metadata": {},
   "outputs": [],
   "source": [
    "#reload source files automatically\n",
    "%load_ext autoreload\n",
    "%autoreload 2"
   ]
  },
  {
   "cell_type": "code",
   "execution_count": 3,
   "metadata": {},
   "outputs": [],
   "source": [
    "import pandas as pd\n",
    "import numpy as np\n",
    "from wtrec.loader import load_from_directory\n",
    "from wtrec.transformer import transform_for_baseline, transform_for_approach\n",
    "from wtrec.splitter import split_fixed, split_random"
   ]
  },
  {
   "cell_type": "markdown",
   "metadata": {},
   "source": [
    "### Load raw data to dataframe"
   ]
  },
  {
   "cell_type": "code",
   "execution_count": 4,
   "metadata": {},
   "outputs": [],
   "source": [
    "raw = load_from_directory('data')"
   ]
  },
  {
   "cell_type": "markdown",
   "metadata": {},
   "source": [
    "### Generate feature vectors for each sample in raw dataframe"
   ]
  },
  {
   "cell_type": "code",
   "execution_count": 5,
   "metadata": {},
   "outputs": [
    {
     "name": "stdout",
     "output_type": "stream",
     "text": [
      "data/other/82_1.html\n",
      "data/other/82_5.html\n",
      "data/other/56_6.html\n",
      "data/other/82_2.html\n",
      "data/relational/25_0.html\n"
     ]
    }
   ],
   "source": [
    "baseline_features = transform_for_baseline(raw)"
   ]
  },
  {
   "cell_type": "markdown",
   "metadata": {},
   "source": [
    "### Split dataset into test and train data according to previously computed indices"
   ]
  },
  {
   "cell_type": "code",
   "execution_count": 6,
   "metadata": {},
   "outputs": [],
   "source": [
    "train_X, train_Y, test_X, test_Y = split_fixed(baseline_features, 'test_indices_small.npz')"
   ]
  },
  {
   "cell_type": "markdown",
   "metadata": {},
   "source": [
    "### Learn and cross-validate GBDT classifier"
   ]
  },
  {
   "cell_type": "code",
   "execution_count": 11,
   "metadata": {},
   "outputs": [
    {
     "name": "stdout",
     "output_type": "stream",
     "text": [
      "              precision    recall  f1-score   support\n",
      "\n",
      "      entity       0.75      0.90      0.82        10\n",
      "      matrix       0.80      0.40      0.53        10\n",
      "       other       1.00      0.80      0.89         5\n",
      "  relational       0.67      0.86      0.75        14\n",
      "\n",
      "   micro avg       0.74      0.74      0.74        39\n",
      "   macro avg       0.80      0.74      0.75        39\n",
      "weighted avg       0.76      0.74      0.73        39\n",
      "\n"
     ]
    }
   ],
   "source": [
    "from sklearn.ensemble import GradientBoostingClassifier\n",
    "from sklearn.metrics import classification_report\n",
    "\n",
    "clf = GradientBoostingClassifier(\n",
    "    min_samples_leaf=2,\n",
    "    n_estimators=100,\n",
    "    random_state=234)  # FIXME: fix random state for reproducability\n",
    "clf.fit(train_X, train_Y)\n",
    "pred_Y = clf.predict(test_X)\n",
    "print(classification_report(test_Y, pred_Y))"
   ]
  },
  {
   "cell_type": "code",
   "execution_count": null,
   "metadata": {},
   "outputs": [],
   "source": []
  }
 ],
 "metadata": {
  "kernelspec": {
   "display_name": "Python 3",
   "language": "python",
   "name": "python3"
  },
  "language_info": {
   "codemirror_mode": {
    "name": "ipython",
    "version": 3
   },
   "file_extension": ".py",
   "mimetype": "text/x-python",
   "name": "python",
   "nbconvert_exporter": "python",
   "pygments_lexer": "ipython3",
   "version": "3.7.3"
  }
 },
 "nbformat": 4,
 "nbformat_minor": 2
}
